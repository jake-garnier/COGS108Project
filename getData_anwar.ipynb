{
 "cells": [
  {
   "cell_type": "code",
   "execution_count": 2,
   "metadata": {},
   "outputs": [
    {
     "data": {
      "text/html": [
       "<div>\n",
       "<style scoped>\n",
       "    .dataframe tbody tr th:only-of-type {\n",
       "        vertical-align: middle;\n",
       "    }\n",
       "\n",
       "    .dataframe tbody tr th {\n",
       "        vertical-align: top;\n",
       "    }\n",
       "\n",
       "    .dataframe thead th {\n",
       "        text-align: right;\n",
       "    }\n",
       "</style>\n",
       "<table border=\"1\" class=\"dataframe\">\n",
       "  <thead>\n",
       "    <tr style=\"text-align: right;\">\n",
       "      <th></th>\n",
       "      <th>player</th>\n",
       "      <th>year</th>\n",
       "      <th>height</th>\n",
       "      <th>defense rating</th>\n",
       "      <th>PTSPG</th>\n",
       "      <th>TOVPG</th>\n",
       "      <th>ASTPG</th>\n",
       "      <th>3P%</th>\n",
       "      <th>FG%</th>\n",
       "    </tr>\n",
       "  </thead>\n",
       "  <tbody>\n",
       "    <tr>\n",
       "      <th>0</th>\n",
       "      <td>Brandon Jennings</td>\n",
       "      <td>2012.0</td>\n",
       "      <td>73</td>\n",
       "      <td>106.3</td>\n",
       "      <td>19.090909</td>\n",
       "      <td>2.212121</td>\n",
       "      <td>5.530303</td>\n",
       "      <td>0.332</td>\n",
       "      <td>0.418</td>\n",
       "    </tr>\n",
       "    <tr>\n",
       "      <th>1</th>\n",
       "      <td>Brandon Jennings</td>\n",
       "      <td>2012.0</td>\n",
       "      <td>73</td>\n",
       "      <td>106.3</td>\n",
       "      <td>19.090909</td>\n",
       "      <td>2.212121</td>\n",
       "      <td>5.530303</td>\n",
       "      <td>0.332</td>\n",
       "      <td>0.418</td>\n",
       "    </tr>\n",
       "    <tr>\n",
       "      <th>2</th>\n",
       "      <td>Jeff Teague</td>\n",
       "      <td>2012.0</td>\n",
       "      <td>74</td>\n",
       "      <td>101.0</td>\n",
       "      <td>12.590909</td>\n",
       "      <td>2.030303</td>\n",
       "      <td>4.863636</td>\n",
       "      <td>0.342</td>\n",
       "      <td>0.476</td>\n",
       "    </tr>\n",
       "    <tr>\n",
       "      <th>3</th>\n",
       "      <td>Jeff Teague</td>\n",
       "      <td>2012.0</td>\n",
       "      <td>74</td>\n",
       "      <td>101.0</td>\n",
       "      <td>12.590909</td>\n",
       "      <td>2.030303</td>\n",
       "      <td>4.863636</td>\n",
       "      <td>0.342</td>\n",
       "      <td>0.476</td>\n",
       "    </tr>\n",
       "    <tr>\n",
       "      <th>4</th>\n",
       "      <td>John Wall</td>\n",
       "      <td>2012.0</td>\n",
       "      <td>76</td>\n",
       "      <td>106.2</td>\n",
       "      <td>16.303030</td>\n",
       "      <td>3.863636</td>\n",
       "      <td>8.030303</td>\n",
       "      <td>0.071</td>\n",
       "      <td>0.423</td>\n",
       "    </tr>\n",
       "    <tr>\n",
       "      <th>...</th>\n",
       "      <td>...</td>\n",
       "      <td>...</td>\n",
       "      <td>...</td>\n",
       "      <td>...</td>\n",
       "      <td>...</td>\n",
       "      <td>...</td>\n",
       "      <td>...</td>\n",
       "      <td>...</td>\n",
       "      <td>...</td>\n",
       "    </tr>\n",
       "    <tr>\n",
       "      <th>520</th>\n",
       "      <td>Jeff Teague</td>\n",
       "      <td>2017.0</td>\n",
       "      <td>74</td>\n",
       "      <td>107.9</td>\n",
       "      <td>15.292683</td>\n",
       "      <td>2.634146</td>\n",
       "      <td>7.792683</td>\n",
       "      <td>0.357</td>\n",
       "      <td>0.442</td>\n",
       "    </tr>\n",
       "    <tr>\n",
       "      <th>521</th>\n",
       "      <td>Cory Joseph</td>\n",
       "      <td>2017.0</td>\n",
       "      <td>75</td>\n",
       "      <td>106.1</td>\n",
       "      <td>9.250000</td>\n",
       "      <td>1.350000</td>\n",
       "      <td>3.312500</td>\n",
       "      <td>0.356</td>\n",
       "      <td>0.452</td>\n",
       "    </tr>\n",
       "    <tr>\n",
       "      <th>522</th>\n",
       "      <td>Cory Joseph</td>\n",
       "      <td>2017.0</td>\n",
       "      <td>75</td>\n",
       "      <td>106.1</td>\n",
       "      <td>9.250000</td>\n",
       "      <td>1.350000</td>\n",
       "      <td>3.312500</td>\n",
       "      <td>0.356</td>\n",
       "      <td>0.452</td>\n",
       "    </tr>\n",
       "    <tr>\n",
       "      <th>523</th>\n",
       "      <td>Ramon Sessions</td>\n",
       "      <td>2017.0</td>\n",
       "      <td>75</td>\n",
       "      <td>96.9</td>\n",
       "      <td>6.240000</td>\n",
       "      <td>0.920000</td>\n",
       "      <td>2.580000</td>\n",
       "      <td>0.339</td>\n",
       "      <td>0.380</td>\n",
       "    </tr>\n",
       "    <tr>\n",
       "      <th>524</th>\n",
       "      <td>Ramon Sessions</td>\n",
       "      <td>2017.0</td>\n",
       "      <td>75</td>\n",
       "      <td>96.9</td>\n",
       "      <td>6.240000</td>\n",
       "      <td>0.920000</td>\n",
       "      <td>2.580000</td>\n",
       "      <td>0.339</td>\n",
       "      <td>0.380</td>\n",
       "    </tr>\n",
       "  </tbody>\n",
       "</table>\n",
       "<p>525 rows × 9 columns</p>\n",
       "</div>"
      ],
      "text/plain": [
       "               player    year  height  defense rating      PTSPG     TOVPG  \\\n",
       "0    Brandon Jennings  2012.0      73           106.3  19.090909  2.212121   \n",
       "1    Brandon Jennings  2012.0      73           106.3  19.090909  2.212121   \n",
       "2         Jeff Teague  2012.0      74           101.0  12.590909  2.030303   \n",
       "3         Jeff Teague  2012.0      74           101.0  12.590909  2.030303   \n",
       "4           John Wall  2012.0      76           106.2  16.303030  3.863636   \n",
       "..                ...     ...     ...             ...        ...       ...   \n",
       "520       Jeff Teague  2017.0      74           107.9  15.292683  2.634146   \n",
       "521       Cory Joseph  2017.0      75           106.1   9.250000  1.350000   \n",
       "522       Cory Joseph  2017.0      75           106.1   9.250000  1.350000   \n",
       "523    Ramon Sessions  2017.0      75            96.9   6.240000  0.920000   \n",
       "524    Ramon Sessions  2017.0      75            96.9   6.240000  0.920000   \n",
       "\n",
       "        ASTPG    3P%    FG%  \n",
       "0    5.530303  0.332  0.418  \n",
       "1    5.530303  0.332  0.418  \n",
       "2    4.863636  0.342  0.476  \n",
       "3    4.863636  0.342  0.476  \n",
       "4    8.030303  0.071  0.423  \n",
       "..        ...    ...    ...  \n",
       "520  7.792683  0.357  0.442  \n",
       "521  3.312500  0.356  0.452  \n",
       "522  3.312500  0.356  0.452  \n",
       "523  2.580000  0.339  0.380  \n",
       "524  2.580000  0.339  0.380  \n",
       "\n",
       "[525 rows x 9 columns]"
      ]
     },
     "execution_count": 2,
     "metadata": {},
     "output_type": "execute_result"
    }
   ],
   "source": [
    "import pandas as pd\n",
    "import numpy as np\n",
    "\n",
    "df_offensive = pd.read_csv(\"Seasons_Stats.csv\")\n",
    "df_heights = pd.read_csv(\"player_data.csv\")\n",
    "df_2012 = pd.read_csv(\"season_2011_2012.csv\")\n",
    "df_2013 = pd.read_csv(\"season_2012_2013.csv\")\n",
    "df_2014 = pd.read_csv(\"season_2013_2014.csv\")\n",
    "df_2015 = pd.read_csv(\"season_2014_2015.csv\")\n",
    "df_2016 = pd.read_csv(\"season_2015_2016.csv\")\n",
    "df_2017 = pd.read_csv(\"season_2016_2017.csv\")\n",
    "\n",
    "df_heights = df_heights[['name', 'height']]\n",
    "df_offensive = df_offensive[['Year', 'Player', 'PTS', 'TOV', 'AST', '3P%', 'FG%', 'G']]\n",
    "df_total = df_heights.merge(df_offensive, how='left', left_on='name', right_on='Player')\n",
    "\n",
    "df_2012['year'] = 2012.0\n",
    "df_2013['year'] = 2013.0\n",
    "df_2014['year'] = 2014.0\n",
    "df_2015['year'] = 2015.0\n",
    "df_2016['year'] = 2016.0\n",
    "df_2017['year'] = 2017.0\n",
    "\n",
    "df_total_year = pd.concat([df_2012, df_2013, df_2014, df_2015, df_2016, df_2017])\n",
    "df_total = df_total_year.merge(df_total, how='inner', left_on=['player', 'year'], right_on=['name', 'Year'])\n",
    "df_total['PTSPG'] = df_total['PTS'] / df_total['G']\n",
    "df_total['TOVPG'] = df_total['TOV'] / df_total['G']\n",
    "df_total['ASTPG'] = df_total['AST'] / df_total['G']\n",
    "df_total = df_total[['player', 'year', 'height', 'defense rating', 'PTSPG', 'TOVPG', 'ASTPG', '3P%', 'FG%']]\n",
    "\n",
    "def height_fix(height) :\n",
    "    height_split = height.split('-')\n",
    "    total = (int(height_split[0]) * 12) + int(height_split[1])\n",
    "    return total\n",
    "\n",
    "df_total['height'] = df_total['height'].apply(height_fix)\n",
    "df_total"
   ]
  },
  {
   "cell_type": "code",
   "execution_count": 3,
   "metadata": {},
   "outputs": [],
   "source": [
    "import matplotlib.pyplot as plt\n",
    "import numpy as np"
   ]
  },
  {
   "cell_type": "code",
   "execution_count": 4,
   "metadata": {},
   "outputs": [],
   "source": [
    "df_2012 = df_total.loc[df_total['year'] == 2012.0]\n",
    "df_2012_sort = df_2012.sort_values(['height'])\n",
    "\n",
    "\n",
    "df_2012_height = df_2012_sort['height']\n",
    "df_2012_points = df_2012_sort['PTSPG']\n",
    "df_2012_defense = df_2012_sort['defense rating']\n",
    "df_2012_turnover = df_2012_sort['TOVPG']\n",
    "df_2012_3percent = df_2012_sort['3P%']\n",
    "df_2012_FGpercent = df_2012_sort['FG%']\n",
    "df_2012_assist = df_2012_sort['ASTPG']\n",
    "\n"
   ]
  },
  {
   "cell_type": "code",
   "execution_count": 5,
   "metadata": {},
   "outputs": [
    {
     "name": "stdout",
     "output_type": "stream",
     "text": [
      "standard deviation of points of 2012: 4.928053188793314\n",
      "standard deviation of assist of 2012: 2.5133720295933872\n",
      "standard deviation of defense rating of 2012: 4.265706417426006\n",
      "standard deviation of 3point percentage of 2012: 0.06322046953791977\n",
      "standard deviation of Fieldgoal percentage of 2012: 0.03448197037571571\n",
      "standard deviation of turnovers of 2012: 0.8482778756840447\n"
     ]
    }
   ],
   "source": [
    "print(\"standard deviation of points of 2012:\",np.std(df_2012_points))\n",
    "print(\"standard deviation of assist of 2012:\",np.std(df_2012_assist))\n",
    "\n",
    "print(\"standard deviation of defense rating of 2012:\",np.std(df_2012_defense))\n",
    "\n",
    "print(\"standard deviation of 3point percentage of 2012:\",np.std(df_2012_3percent))\n",
    "print(\"standard deviation of Fieldgoal percentage of 2012:\",np.std(df_2012_FGpercent))\n",
    "\n",
    "print(\"standard deviation of turnovers of 2012:\",np.std(df_2012_turnover))\n",
    "\n"
   ]
  },
  {
   "cell_type": "code",
   "execution_count": 6,
   "metadata": {},
   "outputs": [
    {
     "data": {
      "image/png": "[encoded data removed]",
      "text/plain": [
       "<Figure size 432x288 with 1 Axes>"
      ]
     },
     "metadata": {
      "needs_background": "light"
     },
     "output_type": "display_data"
    }
   ],
   "source": [
    "\n",
    "plt.title(\"Assist in 2012\")\n",
    "plt.xlabel(\"Heights\")\n",
    "plt.ylabel(\"Assist per game\")\n",
    "plt.bar(x = df_2012_height, height = df_2012_assist,width = 1, align  = 'edge')\n",
    "plt.show()"
   ]
  },
  {
   "cell_type": "code",
   "execution_count": null,
   "metadata": {},
   "outputs": [],
   "source": []
  },
  {
   "cell_type": "code",
   "execution_count": 7,
   "metadata": {},
   "outputs": [],
   "source": [
    "df_2013 = df_total.loc[df_total['year'] == 2013]\n",
    "df_2013_sort = df_2013.sort_values(['height'])\n",
    "\n",
    "df_2013_height = df_2013_sort['height']\n",
    "df_2013_points = df_2013_sort['PTSPG']\n",
    "df_2013_defense = df_2013_sort['defense rating']\n",
    "df_2013_turnover = df_2013_sort['TOVPG']\n",
    "df_2013_3percent = df_2013_sort['3P%']\n",
    "df_2013_FGpercent = df_2013_sort['FG%']\n",
    "df_2013_assist = df_2013_sort['ASTPG']\n"
   ]
  },
  {
   "cell_type": "code",
   "execution_count": 8,
   "metadata": {},
   "outputs": [
    {
     "name": "stdout",
     "output_type": "stream",
     "text": [
      "standard deviation of points of 2013: 6.2708513710216245\n",
      "standard deviation of assist of 2013: 2.348434714359622\n",
      "standard deviation of defense rating of 2013: 6.37421996869383\n",
      "standard deviation of 3point percentage of 2013: 0.05309510506246631\n",
      "standard deviation of Fieldgoal percentage of 2013: 0.04348750895260669\n",
      "standard deviation of turnovers of 2013: 0.9609655791575533\n"
     ]
    }
   ],
   "source": [
    "print(\"standard deviation of points of 2013:\",np.std(df_2013_points))\n",
    "print(\"standard deviation of assist of 2013:\",np.std(df_2013_assist))\n",
    "\n",
    "print(\"standard deviation of defense rating of 2013:\",np.std(df_2013_defense))\n",
    "\n",
    "print(\"standard deviation of 3point percentage of 2013:\",np.std(df_2013_3percent))\n",
    "print(\"standard deviation of Fieldgoal percentage of 2013:\",np.std(df_2013_FGpercent))\n",
    "\n",
    "print(\"standard deviation of turnovers of 2013:\",np.std(df_2013_turnover))\n",
    "\n"
   ]
  },
  {
   "cell_type": "code",
   "execution_count": 9,
   "metadata": {},
   "outputs": [],
   "source": [
    "df_2014 = df_total.loc[df_total['year'] == 2014]\n",
    "df_2014_sort = df_2014.sort_values(['height'])\n",
    "\n",
    "df_2014_height = df_2014_sort['height']\n",
    "df_2014_points = df_2014_sort['PTSPG']\n",
    "df_2014_defense = df_2014_sort['defense rating']\n",
    "df_2014_turnover = df_2014_sort['TOVPG']\n",
    "df_2014_3percent = df_2014_sort['3P%']\n",
    "df_2014_FGpercent = df_2014_sort['FG%']\n",
    "df_2014_assist = df_2014_sort['ASTPG']\n"
   ]
  },
  {
   "cell_type": "code",
   "execution_count": 10,
   "metadata": {},
   "outputs": [
    {
     "name": "stdout",
     "output_type": "stream",
     "text": [
      "standard deviation of points of 2014: 5.595339424294392\n",
      "standard deviation of assist of 2014: 2.204245574372643\n",
      "standard deviation of defense rating of 2014: 4.786084156309662\n",
      "standard deviation of 3point percentage of 2014: 0.07791596029515319\n",
      "standard deviation of Fieldgoal percentage of 2014: 0.03474644893906891\n",
      "standard deviation of turnovers of 2014: 0.8362109890249251\n"
     ]
    }
   ],
   "source": [
    "print(\"standard deviation of points of 2014:\",np.std(df_2014_points))\n",
    "print(\"standard deviation of assist of 2014:\",np.std(df_2014_assist))\n",
    "\n",
    "print(\"standard deviation of defense rating of 2014:\",np.std(df_2014_defense))\n",
    "\n",
    "print(\"standard deviation of 3point percentage of 2014:\",np.std(df_2014_3percent))\n",
    "print(\"standard deviation of Fieldgoal percentage of 2014:\",np.std(df_2014_FGpercent))\n",
    "\n",
    "print(\"standard deviation of turnovers of 2014:\",np.std(df_2014_turnover))\n",
    "\n"
   ]
  },
  {
   "cell_type": "code",
   "execution_count": 11,
   "metadata": {},
   "outputs": [],
   "source": [
    "df_2015 = df_total.loc[df_total['year'] == 2015]\n",
    "df_2015_sort = df_2015.sort_values(['height'])\n",
    "\n",
    "df_2015_height = df_2015_sort['height']\n",
    "df_2015_points = df_2015_sort['PTSPG']\n",
    "df_2015_defense = df_2015_sort['defense rating']\n",
    "df_2015_turnover = df_2015_sort['TOVPG']\n",
    "df_2015_3percent = df_2015_sort['3P%']\n",
    "df_2015_FGpercent = df_2015_sort['FG%']\n",
    "df_2015_assist = df_2015_sort['ASTPG']\n"
   ]
  },
  {
   "cell_type": "code",
   "execution_count": 12,
   "metadata": {},
   "outputs": [
    {
     "name": "stdout",
     "output_type": "stream",
     "text": [
      "standard deviation of points of 2015: 6.080570150218445\n",
      "standard deviation of assist of 2015: 2.302544151413894\n",
      "standard deviation of defense rating of 2015: 7.976981692658931\n",
      "standard deviation of 3point percentage of 2015: 0.060621724561108155\n",
      "standard deviation of Fieldgoal percentage of 2015: 0.045650204696429095\n",
      "standard deviation of turnovers of 2015: 0.9199030230917609\n"
     ]
    }
   ],
   "source": [
    "print(\"standard deviation of points of 2015:\",np.std(df_2015_points))\n",
    "print(\"standard deviation of assist of 2015:\",np.std(df_2015_assist))\n",
    "\n",
    "print(\"standard deviation of defense rating of 2015:\",np.std(df_2015_defense))\n",
    "\n",
    "print(\"standard deviation of 3point percentage of 2015:\",np.std(df_2015_3percent))\n",
    "print(\"standard deviation of Fieldgoal percentage of 2015:\",np.std(df_2015_FGpercent))\n",
    "\n",
    "print(\"standard deviation of turnovers of 2015:\",np.std(df_2015_turnover))\n",
    "\n"
   ]
  },
  {
   "cell_type": "code",
   "execution_count": 13,
   "metadata": {},
   "outputs": [],
   "source": [
    "df_2016 = df_total.loc[df_total['year'] == 2016]\n",
    "df_2016_sort = df_2016.sort_values(['height'])\n",
    "\n",
    "df_2016_height = df_2016_sort['height']\n",
    "df_2016_points = df_2016_sort['PTSPG']\n",
    "df_2016_defense = df_2016_sort['defense rating']\n",
    "df_2016_turnover = df_2016_sort['TOVPG']\n",
    "df_2016_3percent = df_2016_sort['3P%']\n",
    "df_2016_FGpercent = df_2016_sort['FG%']\n",
    "df_2016_assist = df_2016_sort['ASTPG']\n"
   ]
  },
  {
   "cell_type": "code",
   "execution_count": 14,
   "metadata": {},
   "outputs": [
    {
     "name": "stdout",
     "output_type": "stream",
     "text": [
      "standard deviation of points of 2016: 6.756098900331717\n",
      "standard deviation of assist of 2016: 2.3030743250749537\n",
      "standard deviation of defense rating of 2016: 4.841304709736519\n",
      "standard deviation of 3point percentage of 2016: 0.09242034706442541\n",
      "standard deviation of Fieldgoal percentage of 2016: 0.08190093506502273\n",
      "standard deviation of turnovers of 2016: 0.9664833556091668\n"
     ]
    }
   ],
   "source": [
    "print(\"standard deviation of points of 2016:\",np.std(df_2016_points))\n",
    "print(\"standard deviation of assist of 2016:\",np.std(df_2016_assist))\n",
    "\n",
    "print(\"standard deviation of defense rating of 2016:\",np.std(df_2016_defense))\n",
    "\n",
    "print(\"standard deviation of 3point percentage of 2016:\",np.std(df_2016_3percent))\n",
    "print(\"standard deviation of Fieldgoal percentage of 2016:\",np.std(df_2016_FGpercent))\n",
    "\n",
    "print(\"standard deviation of turnovers of 2016:\",np.std(df_2016_turnover))\n",
    "\n"
   ]
  },
  {
   "cell_type": "code",
   "execution_count": 15,
   "metadata": {},
   "outputs": [],
   "source": [
    "df_2017 = df_total.loc[df_total['year'] == 2017]\n",
    "df_2017_sort = df_2017.sort_values(['height'])\n",
    "\n",
    "df_2017_height = df_2017_sort['height']\n",
    "df_2017_points = df_2017_sort['PTSPG']\n",
    "df_2017_defense = df_2017_sort['defense rating']\n",
    "df_2017_turnover = df_2017_sort['TOVPG']\n",
    "df_2017_3percent = df_2017_sort['3P%']\n",
    "df_2017_FGpercent = df_2017_sort['FG%']\n",
    "df_2017_assist = df_2017_sort['ASTPG']\n"
   ]
  },
  {
   "cell_type": "code",
   "execution_count": 16,
   "metadata": {},
   "outputs": [
    {
     "name": "stdout",
     "output_type": "stream",
     "text": [
      "standard deviation of points of 2017: 7.61448681031222\n",
      "standard deviation of assist of 2017: 2.5169797261855456\n",
      "standard deviation of defense rating of 2017: 4.873149819494298\n",
      "standard deviation of 3point percentage of 2017: 0.05462749838906147\n",
      "standard deviation of Fieldgoal percentage of 2017: 0.04145401289604163\n",
      "standard deviation of turnovers of 2017: 1.0835606337976351\n"
     ]
    }
   ],
   "source": [
    "print(\"standard deviation of points of 2017:\",np.std(df_2017_points))\n",
    "print(\"standard deviation of assist of 2017:\",np.std(df_2017_assist))\n",
    "\n",
    "print(\"standard deviation of defense rating of 2017:\",np.std(df_2017_defense))\n",
    "\n",
    "print(\"standard deviation of 3point percentage of 2017:\",np.std(df_2017_3percent))\n",
    "print(\"standard deviation of Fieldgoal percentage of 2017:\",np.std(df_2017_FGpercent))\n",
    "\n",
    "print(\"standard deviation of turnovers of 2017:\",np.std(df_2017_turnover))\n",
    "\n"
   ]
  },
  {
   "cell_type": "code",
   "execution_count": 21,
   "metadata": {},
   "outputs": [
    {
     "data": {
      "image/png": "[encoded data removed]",
      "text/plain": [
       "<Figure size 1080x1080 with 6 Axes>"
      ]
     },
     "metadata": {
      "needs_background": "light"
     },
     "output_type": "display_data"
    }
   ],
   "source": [
    "plt.figure(figsize = (15,15))\n",
    "\n",
    "plt.subplot(3,3,1)\n",
    "plt.title(\"Points in 2012\")\n",
    "plt.xlabel(\"Heights\")\n",
    "plt.ylabel(\"Points per game\")\n",
    "plt.bar(x = df_2012_height, height = df_2012_points,width = 1, align  = 'edge')\n",
    "\n",
    "plt.subplot(3,3,2)\n",
    "plt.title(\"Points in 2013\")\n",
    "plt.xlabel(\"Heights\")\n",
    "plt.ylabel(\"Points per game\")\n",
    "plt.bar(x = df_2013_height, height = df_2013_points,width = 1, align  = 'edge')\n",
    "\n",
    "\n",
    "plt.subplot(3,3,3)\n",
    "plt.title(\"Points in 2014\")\n",
    "plt.xlabel(\"Heights\")\n",
    "plt.ylabel(\"Points per game\")\n",
    "plt.bar(x = df_2014_height, height = df_2014_points,width = 1, align  = 'edge')\n",
    "\n",
    "\n",
    "plt.subplot(3,3,4)\n",
    "plt.title(\"Points in 2015\")\n",
    "plt.xlabel(\"Heights\")\n",
    "plt.ylabel(\"Points per game\")\n",
    "plt.bar(x = df_2015_height, height = df_2015_points,width = 1, align  = 'edge')\n",
    "\n",
    "\n",
    "plt.subplot(3,3,5)\n",
    "plt.title(\"Points in 2016\")\n",
    "plt.xlabel(\"Heights\")\n",
    "plt.ylabel(\"Points per game\")\n",
    "plt.bar(x = df_2016_height, height = df_2016_points,width = 1, align  = 'edge')\n",
    "\n",
    "\n",
    "plt.subplot(3,3,6)\n",
    "plt.title(\"Points in 2017\")\n",
    "plt.xlabel(\"Heights\")\n",
    "plt.ylabel(\"Points per game\")\n",
    "plt.bar(x = df_2017_height, height = df_2017_points,width = 1, align  = 'edge')\n",
    "\n",
    "\n",
    "plt.show()\n"
   ]
  },
  {
   "cell_type": "code",
   "execution_count": 23,
   "metadata": {},
   "outputs": [],
   "source": [
    "import numpy as np"
   ]
  },
  {
   "cell_type": "code",
   "execution_count": 26,
   "metadata": {},
   "outputs": [
    {
     "data": {
      "image/png": "[encoded data removed]",
      "text/plain": [
       "<Figure size 1080x1080 with 6 Axes>"
      ]
     },
     "metadata": {
      "needs_background": "light"
     },
     "output_type": "display_data"
    }
   ],
   "source": [
    "plt.figure(figsize = (15,15))\n",
    "\n",
    "plt.subplot(3,3,1)\n",
    "plt.title(\"Defense rating in 2012\")\n",
    "plt.xlabel(\"Heights\")\n",
    "plt.ylabel(\"Defense rating\")\n",
    "plt.bar(x = df_2012_height, height = df_2012_defense,width = 1, align  = 'edge')\n",
    "\n",
    "plt.subplot(3,3,2)\n",
    "plt.title(\"Defense rating in 2013\")\n",
    "plt.xlabel(\"Heights\")\n",
    "plt.ylabel(\"Defense rating\")\n",
    "plt.bar(x = df_2013_height, height = df_2013_defense,width = 1, align  = 'edge')\n",
    "\n",
    "\n",
    "plt.subplot(3,3,3)\n",
    "plt.title(\"Defense rating in 2014\")\n",
    "plt.xlabel(\"Heights\")\n",
    "plt.ylabel(\"Defense rating\")\n",
    "plt.bar(x = df_2014_height, height = df_2014_defense,width = 1, align  = 'edge')\n",
    "\n",
    "\n",
    "plt.subplot(3,3,4)\n",
    "plt.title(\"Defense rating in 2015\")\n",
    "plt.xlabel(\"Heights\")\n",
    "plt.ylabel(\"Defense rating\")\n",
    "plt.bar(x = df_2015_height, height = df_2015_defense,width = 1, align  = 'edge')\n",
    "\n",
    "\n",
    "plt.subplot(3,3,5)\n",
    "plt.title(\"Defense rating in 2016\")\n",
    "plt.xlabel(\"Heights\")\n",
    "plt.ylabel(\"Defense rating\")\n",
    "plt.bar(x = df_2016_height, height = df_2016_defense,width = 1, align  = 'edge')\n",
    "\n",
    "\n",
    "plt.subplot(3,3,6)\n",
    "plt.title(\"Defense rating in 2017\")\n",
    "plt.xlabel(\"Heights\")\n",
    "plt.ylabel(\"Defense rating\")\n",
    "plt.bar(x = df_2017_height, height = df_2017_defense,width = 1, align  = 'edge')\n",
    "\n",
    "\n",
    "\n",
    "\n",
    "plt.show()\n"
   ]
  },
  {
   "cell_type": "code",
   "execution_count": 27,
   "metadata": {},
   "outputs": [
    {
     "data": {
      "image/png": "[encoded data removed]",
      "text/plain": [
       "<Figure size 1080x1080 with 6 Axes>"
      ]
     },
     "metadata": {
      "needs_background": "light"
     },
     "output_type": "display_data"
    }
   ],
   "source": [
    "plt.figure(figsize = (15,15))\n",
    "\n",
    "plt.subplot(3,3,1)\n",
    "plt.title(\"Assist in 2012\")\n",
    "plt.xlabel(\"Heights\")\n",
    "plt.ylabel(\"Assist per game\")\n",
    "plt.bar(x = df_2012_height, height = df_2012_assist,width = 1, align  = 'edge')\n",
    "\n",
    "plt.subplot(3,3,2)\n",
    "plt.title(\"Assist in 2013\")\n",
    "plt.xlabel(\"Heights\")\n",
    "plt.ylabel(\"Assist per game\")\n",
    "plt.bar(x = df_2013_height, height = df_2013_assist,width = 1, align  = 'edge')\n",
    "\n",
    "\n",
    "plt.subplot(3,3,3)\n",
    "plt.title(\"Assist in 2014\")\n",
    "plt.xlabel(\"Heights\")\n",
    "plt.ylabel(\"Assist per game\")\n",
    "plt.bar(x = df_2014_height, height = df_2014_assist,width = 1, align  = 'edge')\n",
    "\n",
    "\n",
    "plt.subplot(3,3,4)\n",
    "plt.title(\"Assist in 2015\")\n",
    "plt.xlabel(\"Heights\")\n",
    "plt.ylabel(\"Assist per game\")\n",
    "plt.bar(x = df_2015_height, height = df_2015_assist,width = 1, align  = 'edge')\n",
    "\n",
    "\n",
    "plt.subplot(3,3,5)\n",
    "plt.title(\"Assist in 2016\")\n",
    "plt.xlabel(\"Heights\")\n",
    "plt.ylabel(\"Assist per game\")\n",
    "plt.bar(x = df_2016_height, height = df_2016_assist,width = 1, align  = 'edge')\n",
    "\n",
    "\n",
    "plt.subplot(3,3,6)\n",
    "plt.title(\"Assist in 2017\")\n",
    "plt.xlabel(\"Heights\")\n",
    "plt.ylabel(\"Assist per game\")\n",
    "plt.bar(x = df_2017_height, height = df_2017_assist,width = 1, align  = 'edge')\n",
    "\n",
    "\n",
    "\n",
    "\n",
    "plt.show()"
   ]
  },
  {
   "cell_type": "code",
   "execution_count": null,
   "metadata": {},
   "outputs": [],
   "source": [
    "plt.figure(figsize = (15,15))\n",
    "\n",
    "plt.subplot(3,3,1)\n",
    "plt.title(\"Assist in 2012\")\n",
    "plt.xlabel(\"Heights\")\n",
    "plt.ylabel(\"Assist per game\")\n",
    "plt.bar(x = df_2012_height, height = df_2012_assist,width = 1, align  = 'edge')\n",
    "\n",
    "plt.subplot(3,3,2)\n",
    "plt.title(\"Assist in 2013\")\n",
    "plt.xlabel(\"Heights\")\n",
    "plt.ylabel(\"Assist per game\")\n",
    "plt.bar(x = df_2013_height, height = df_2013_assist,width = 1, align  = 'edge')\n",
    "\n",
    "\n",
    "plt.subplot(3,3,3)\n",
    "plt.title(\"Assist in 2014\")\n",
    "plt.xlabel(\"Heights\")\n",
    "plt.ylabel(\"Assist per game\")\n",
    "plt.bar(x = df_2014_height, height = df_2014_assist,width = 1, align  = 'edge')\n",
    "\n",
    "\n",
    "plt.subplot(3,3,4)\n",
    "plt.title(\"Assist in 2015\")\n",
    "plt.xlabel(\"Heights\")\n",
    "plt.ylabel(\"Assist per game\")\n",
    "plt.bar(x = df_2015_height, height = df_2015_assist,width = 1, align  = 'edge')\n",
    "\n",
    "\n",
    "plt.subplot(3,3,5)\n",
    "plt.title(\"Assist in 2016\")\n",
    "plt.xlabel(\"Heights\")\n",
    "plt.ylabel(\"Assist per game\")\n",
    "plt.bar(x = df_2016_height, height = df_2016_assist,width = 1, align  = 'edge')\n",
    "\n",
    "\n",
    "plt.subplot(3,3,6)\n",
    "plt.title(\"Assist in 2017\")\n",
    "plt.xlabel(\"Heights\")\n",
    "plt.ylabel(\"Assist per game\")\n",
    "plt.bar(x = df_2017_height, height = df_2017_assist,width = 1, align  = 'edge')\n",
    "\n",
    "\n",
    "\n",
    "\n",
    "plt.show()"
   ]
  }
 ],
 "metadata": {
  "kernelspec": {
   "display_name": "Python 3",
   "language": "python",
   "name": "python3"
  },
  "language_info": {
   "codemirror_mode": {
    "name": "ipython",
    "version": 3
   },
   "file_extension": ".py",
   "mimetype": "text/x-python",
   "name": "python",
   "nbconvert_exporter": "python",
   "pygments_lexer": "ipython3",
   "version": "3.6.7"
  }
 },
 "nbformat": 4,
 "nbformat_minor": 2
}

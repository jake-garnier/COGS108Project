{
 "cells": [
  {
   "cell_type": "markdown",
   "metadata": {},
   "source": [
    "# COGS 108 - Final Project Proposal"
   ]
  },
  {
   "cell_type": "markdown",
   "metadata": {},
   "source": [
    "# Names\n",
    "\n",
    "Kevin Ing\n",
    "Jake Garnier\n",
    "Chris Molina\n",
    "Anwar Hsu"
   ]
  },
  {
   "cell_type": "markdown",
   "metadata": {},
   "source": [
    "# Group Members IDs\n",
    "\n",
    "- A15395306\n",
    "- A15578823\n",
    "- A15429191\n",
    "- A15443752"
   ]
  },
  {
   "cell_type": "markdown",
   "metadata": {},
   "source": [
    "# Research Question"
   ]
  },
  {
   "cell_type": "markdown",
   "metadata": {},
   "source": [
    "What is the correlation between height in the NBA and a point guard's success/performance in the league?"
   ]
  },
  {
   "cell_type": "markdown",
   "metadata": {},
   "source": [
    "## Background and Prior Work"
   ]
  },
  {
   "cell_type": "markdown",
   "metadata": {},
   "source": [
    "*Fill in your background and prior work here. Be sure to specify which statements are from which references.* \n",
    "\n",
    "- We chose to do research on this project to contest the common stigma that height plays a pivotal role in basketball players. In the modern age of the NBA we are seeing more and more players use different unique skill sets that utilize other parts of their game rather than height.\n",
    "\n",
    "References (include links):\n",
    "- 1) https://saltcityhoops.com/how-much-has-height-of-point-guards-mattered-historically/\n",
    "\n",
    "- This article provides data to players prior to 2013 where the game was played much differently than it is now, where height isn't factored to be as important then it used to be.\n",
    "\n",
    "\n",
    "- 2) https://bleacherreport.com/articles/937064-building-the-perfect-nba-point-guard#slide9\n",
    "\n",
    "- We based our criteria for performance and success based off of some of the points highlighted in this article, more specifically we chose the main three attributes; points, assists, shooting percentage, and points allowed (defense)."
   ]
  },
  {
   "cell_type": "markdown",
   "metadata": {},
   "source": [
    "# Hypothesis\n"
   ]
  },
  {
   "cell_type": "markdown",
   "metadata": {},
   "source": [
    "We believe that height holds a dominating factor in terms of how successful a point guard will be in the NBA, the taller the player the better he will perform for his respective team and therfore the more succesful the team will be."
   ]
  },
  {
   "cell_type": "markdown",
   "metadata": {},
   "source": [
    "# Data"
   ]
  },
  {
   "cell_type": "markdown",
   "metadata": {},
   "source": [
    "*Explain what the ideal dataset you would want to answer this question. (This should include: What variables? How many observations? Who/what/how would these data be collected? How would these data be stored/organized?)*\n",
    "\n",
    "- To conduct research on our product the following variables we will be looking at include\n",
    "    - Points\n",
    "    - Points allowed\n",
    "    - 3PT percentage\n",
    "    - Field goal percentage\n",
    "    - Assits\n",
    "    - Turnovers\n",
    "    \n",
    "- We will be collecting data off of a five year span of the NBA (2015-2020) and using data from various sports sites like EPSN\n",
    "\n",
    "- We will be organizing our different stats into certain weights to give more value in the order listed above. Each stat with respective weight will be accounted into a final score to evaulate success/performance."
   ]
  },
  {
   "cell_type": "markdown",
   "metadata": {},
   "source": [
    "# Ethics & Privacy"
   ]
  },
  {
   "cell_type": "markdown",
   "metadata": {},
   "source": [
    "- Since most of this data is publicly available there are no real privacy or ethical problem. \n",
    "\n",
    "- An ethical problem that may arise is the debate about height in terms of measuring success in a player."
   ]
  },
  {
   "cell_type": "markdown",
   "metadata": {},
   "source": [
    "# Team Expectations "
   ]
  },
  {
   "cell_type": "markdown",
   "metadata": {},
   "source": [
    "- Each team member has their own responsibilty and should contribute to the project evenly\n",
    "- We expect to not procastiante for this project and reach expected deadlines\n",
    "- Each member should actively allocate time to the project and we will plan days to meet up to work on the project."
   ]
  },
  {
   "cell_type": "markdown",
   "metadata": {},
   "source": [
    "# Project Timeline Proposal"
   ]
  },
  {
   "cell_type": "markdown",
   "metadata": {},
   "source": [
    "| Meeting Date  | Meeting Time| Completed Before Meeting  | Discuss at Meeting |\n",
    "|---|---|---|---|\n",
    "| 1/27  |  9 PM |  Though about potenital project ideas | Discussed our ideas and decided on a research question to focus on | \n",
    "| 1/30  | 10 PM | N/A | Filled out project proposal\n",
    "| 2/10  | 9 PM  | Import & Wrangle Data for the 2015-2020 seasons of all starting point guards|Combine and organize all group member's found data\n",
    "| 2/17  | 9 PM  | Begin analysis of data, start making graphs based off our criteria | Analyze graphs made; Complete project check-in |\n",
    "| 3/2  | 9 PM  | Complete analysis; Draft results/conclusion/discussion | Discuss/edit full project |\n",
    "| 3/19  | Before 11:59 PM  | NA | Turn in Final Project & Group Project Surveys |"
   ]
  },
  {
   "cell_type": "code",
   "execution_count": null,
   "metadata": {},
   "outputs": [],
   "source": []
  }
 ],
 "metadata": {
  "kernelspec": {
   "display_name": "Python 3",
   "language": "python",
   "name": "python3"
  },
  "language_info": {
   "codemirror_mode": {
    "name": "ipython",
    "version": 3
   },
   "file_extension": ".py",
   "mimetype": "text/x-python",
   "name": "python",
   "nbconvert_exporter": "python",
   "pygments_lexer": "ipython3",
   "version": "3.6.7"
  }
 },
 "nbformat": 4,
 "nbformat_minor": 2
}

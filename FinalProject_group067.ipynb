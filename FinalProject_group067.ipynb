{
 "cells": [
  {
   "cell_type": "markdown",
   "metadata": {},
   "source": [
    "# COGS 108 - Final Project "
   ]
  },
  {
   "cell_type": "markdown",
   "metadata": {},
   "source": [
    "## Permissions"
   ]
  },
  {
   "cell_type": "markdown",
   "metadata": {},
   "source": [
    "Place an `X` in the appropriate bracket below to specify if you would like your group's project to be made available to the public. (Note that PIDs will be scraped from the public submission, but student names will be included.)\n",
    "\n",
    "* [ X ] YES - make available\n",
    "* [  ] NO - keep private"
   ]
  },
  {
   "cell_type": "markdown",
   "metadata": {},
   "source": [
    "# Overview"
   ]
  },
  {
   "cell_type": "markdown",
   "metadata": {},
   "source": [
    "- It has been a commonly held stimga that height plays a pivotal role in the world of basketball. This project seeks to ultimately challenge this opinion, finding whether or not there actually exists a correlation between an NBA player's height (specifically point guards) and their success/performance in the league. Utilizing common statistics that usually predict a player's success in a game such as points per game, assists, turnovers, defensive rating, etc. as well as taking into account their height, we can build a more accurate baseline of success among these players. By analyzing these datasets this project will provide a more statsitcal and defintive answer in determining correlation between height in point guards and their performance in the NBA."
   ]
  },
  {
   "cell_type": "markdown",
   "metadata": {},
   "source": [
    "# Names\n",
    "\n",
    "- Kevin Ing\n",
    "- Chris Molina\n",
    "- Anwar Hsu\n",
    "- Jake Garnier"
   ]
  },
  {
   "cell_type": "markdown",
   "metadata": {},
   "source": [
    "# Group Members IDs\n",
    "\n",
    "- A15395306\n",
    "- A15429191\n",
    "- A15443752\n",
    "- A15578823"
   ]
  },
  {
   "cell_type": "markdown",
   "metadata": {},
   "source": [
    "# Research Question"
   ]
  },
  {
   "cell_type": "markdown",
   "metadata": {},
   "source": [
    "- What is the correlation between height and a point guard's success/performance in the NBA? "
   ]
  },
  {
   "cell_type": "markdown",
   "metadata": {},
   "source": [
    "## Background and Prior Work "
   ]
  },
  {
   "cell_type": "markdown",
   "metadata": {},
   "source": [
    "- We chose to do research on this project to contest the common stigma that height plays a pivotal role in basketball players. In the modern age of the NBA we are seeing more and more players use different unique skill sets that utilize other parts of their game rather than height. The major factor in allowing these smaller players to ultimately perform better than their taller counterparts revolves around the game's more fast paced playstyle and play around the 3 pointer. With the court more spaced out, point guards are given more freedom on offense, players like Stephen Curry and Damian Lillard have taken advantage of the new era style of play and have put up incredible statistics throughout the recent seasons. \n",
    "\n",
    "\n",
    " - The average height for a point guard over the 2012-2017 seaons have hovered around 6'2\n",
    " - From the 2012-2017 seasons 3 MVP awards were given to point guards (Stephen Curry) (Russell Westbrook)\n",
    " - Historically big men (player who played the \"power forward\" to \"center\" positions who were on average around 6'11 won the MVP award more prior to 2000. \n",
    "\n",
    "References (include links):\n",
    "- 1) https://saltcityhoops.com/how-much-has-height-of-point-guards-mattered-historically/\n",
    "\n",
    "    This article provides data to players prior to 2013 where the game was played much differently than it is now, where height isn't factored to be as important then it used to be. Throughout this article the point guard Trey Burke is used as a sample group and compared with other point guards in the league. Standing 6'1 in height Burke represents the middle of the bell curve in terms of heights amongst NBA point guards. Rather than utilizing traditional stats this article uses PER also known as player efficiency rating which \"is the overall rating of a player's per-minute statistical production\" (ESPN). In conclusion this article ultimately states 6'3 as being the optimal height for point guards, however as the league has progressed, this number has shifted due to the way point guards are now playing the game more spread out with more 3PTs. \n",
    "    \n",
    " \n",
    "- 2) https://bleacherreport.com/articles/937064-building-the-perfect-nba-point-guard#slide9\n",
    "\n",
    "     We based our criteria for performance and success based off of some of the points highlighted in this article, more specifically we chose the main three attributes; points, assists, shooting percentage, and points allowed (defense). This article focuses on the key skillsets that make star point guards so dominant. These players range Steph Curry and his 3pt shooting to Steve Nash and his passing ability. With so many successful point guards each playing the game differently as well as with differing heights this article allows us to build a better baseline in determining how successful a player can be for their team. "
   ]
  },
  {
   "cell_type": "markdown",
   "metadata": {},
   "source": [
    "# Hypothesis \n"
   ]
  },
  {
   "cell_type": "markdown",
   "metadata": {},
   "source": [
    "We believe that height holds a dominating factor in terms of how successful a point guard will be in the NBA, the taller the player the better he will perform for his respective team and therfore the more succesful the team will be.\n",
    "\n",
    "We think that being taller provides advantages that can heavily impact the game. Even though players like Stephen Curry, a phenomenal player despite his size, exist in the league as incredible point guards that don't need to utilize their height to be successful for their team. basketball’s meta changed after Curry’s domination in 2015-2016. We can see more and more point guards looking to make more 3-pointers rather than driving in or looking for assists. As more guards begin to utilize Curry’s style in late seasons we can better see the impact height has on this style.\n",
    "\n",
    "Throughout the 2012 - 2017 seasons we expect to find fairly linear correlation between height and the variables that create a successful player with few outliers such as Stephen Curry \n"
   ]
  },
  {
   "cell_type": "markdown",
   "metadata": {},
   "source": [
    "# Dataset(s)"
   ]
  },
  {
   "cell_type": "markdown",
   "metadata": {},
   "source": [
    "- Dataset Name: player_data.csv\n",
    "- Link to the dataset: https://www.kaggle.com/drgilermo/nba-players-stats#player_data.csv\n",
    "- Number of observations: 4551\n",
    "    - This dataset includes player statistics that range from the 1950 season all the way to the 2018 season. This dataset consists of each player's name, year played, college, position, height, and weight. The main statistics that we plan on using from this dataset include player position and height, which will we then narrow down to only point guards from the 2012-2017 season. We will merge this data set with the season stats and defensive stats data sets since they lack statistics regarding player height. \n",
    "\n",
    "\n",
    "- Dataset Name: season_stats.csv\n",
    "- Link to the dataset: https://www.kaggle.com/drgilermo/nba-players-stats#Seasons_Stats.csv\n",
    "- Number of observations: 3921\n",
    "    - This dataset includes player game stats from 1950-2018 holding 53 columns of stats such as points, assists, rebounds, steals etc. The main statistics we will be utilizing in this dataset will points, assists, turnovers, steals, 3pt %, field goal %. We will also only be analyzing players from a 5 year span from the 2012-2017 seasons. This dataset will be merged with the player_data.csv file to include height and player position which will we use to sort out point guards.\n",
    "   \n",
    "   \n",
    "- Dataset Name: season_2012_2013.csv - season_2017_2018.csv\n",
    "- Link to the dataset: https://stats.nba.com/players/advanced/\n",
    "- Number of observations: 300\n",
    "    - We used a third party application called DataMiner to extract stats from the NBA official advanced stats website since there was a lack of defensive rating stats online. These collection of datasets each consist of the player's name, the team they play for, and their defensive rating, the dataset already consists of players in the NBA that are point guards and also hold a starting position on the roster. We combine this dataset with the ones above to merge the defensive rating stat alongside the other stats as well as the height of each respective player. This will also narrow the list of point guards down to only starting point guards.  "
   ]
  },
  {
   "cell_type": "markdown",
   "metadata": {},
   "source": [
    "# Data Cleaning (WIP)"
   ]
  },
  {
   "cell_type": "markdown",
   "metadata": {},
   "source": [
    "Describe your data cleaning steps here."
   ]
  },
  {
   "cell_type": "code",
   "execution_count": null,
   "metadata": {},
   "outputs": [],
   "source": [
    "import pandas as pd\n",
    "import numpy as np\n",
    "\n",
    "df_offensive = pd.read_csv(\"Seasons_Stats.csv\")\n",
    "df_heights = pd.read_csv(\"player_data.csv\")\n",
    "df_2012 = pd.read_csv(\"2011.csv\")\n",
    "df_2013 = pd.read_csv(\"2012.csv\")\n",
    "df_2014 = pd.read_csv(\"2013.csv\")\n",
    "df_2015 = pd.read_csv(\"2014.csv\")\n",
    "df_2016 = pd.read_csv(\"2015.csv\")\n",
    "df_2017 = pd.read_csv(\"2016.csv\")\n",
    "\n",
    "df_heights = df_heights[['name', 'height']]\n",
    "df_offensive = df_offensive[['Year', 'Player', 'PTS', 'TOV', 'AST', '3P%', 'FG%', 'G']]\n",
    "df_total = df_heights.merge(df_offensive, how='left', left_on='name', right_on='Player')\n",
    "\n",
    "df_2012['year'] = 2012.0\n",
    "df_2013['year'] = 2013.0\n",
    "df_2014['year'] = 2014.0\n",
    "df_2015['year'] = 2015.0\n",
    "df_2016['year'] = 2016.0\n",
    "df_2017['year'] = 2017.0\n",
    "\n",
    "df_total_year = pd.concat([df_2012, df_2013, df_2014, df_2015, df_2016, df_2017])\n",
    "df_total = df_total_year.merge(df_total, how='inner', left_on=['player', 'year'], right_on=['name', 'Year'])\n",
    "df_total['PTSPG'] = df_total['PTS'] / df_total['G']\n",
    "df_total['TOVPG'] = df_total['TOV'] / df_total['G']\n",
    "df_total['ASTPG'] = df_total['AST'] / df_total['G']\n",
    "df_total = df_total[['player', 'year', 'height', 'defense rating', 'PTSPG', 'TOVPG', 'ASTPG', '3P%', 'FG%']]\n",
    "\n",
    "def height_fix(height) :\n",
    "    height_split = height.split('-')\n",
    "    total = (int(height_split[0]) * 12) + int(height_split[1])\n",
    "    return total\n",
    "\n",
    "df_total['height'] = df_total['height'].apply(height_fix)\n",
    "\n",
    "def mean_calc(year, df) :\n",
    "    mean_array = []\n",
    "    for height in range(60, 100) :\n",
    "        df_curr = df.loc[(df['year'] == year) & (df['height'] == height)]\n",
    "        if df_curr.empty :\n",
    "            continue\n",
    "        mean = df_curr.mean()\n",
    "        mean_array.append([height, mean['defense rating'], mean['PTSPG'], mean['TOVPG'], mean['ASTPG'], mean['3P%'], mean['FG%']])\n",
    "    return mean_array\n",
    "        \n",
    "df_2012_mean = pd.DataFrame(data=mean_calc(2012.0, df_total), columns=['height', 'defense rating', 'PTSPG', 'TOVPG', 'ASTPG', '3P%', 'FG%'])\n",
    "df_2013_mean = pd.DataFrame(data=mean_calc(2013.0, df_total), columns=['height', 'defense rating', 'PTSPG', 'TOVPG', 'ASTPG', '3P%', 'FG%'])\n",
    "df_2014_mean = pd.DataFrame(data=mean_calc(2014.0, df_total), columns=['height', 'defense rating', 'PTSPG', 'TOVPG', 'ASTPG', '3P%', 'FG%'])\n",
    "df_2015_mean = pd.DataFrame(data=mean_calc(2015.0, df_total), columns=['height', 'defense rating', 'PTSPG', 'TOVPG', 'ASTPG', '3P%', 'FG%'])\n",
    "df_2016_mean = pd.DataFrame(data=mean_calc(2016.0, df_total), columns=['height', 'defense rating', 'PTSPG', 'TOVPG', 'ASTPG', '3P%', 'FG%'])\n",
    "df_2017_mean = pd.DataFrame(data=mean_calc(2017.0, df_total), columns=['height', 'defense rating', 'PTSPG', 'TOVPG', 'ASTPG', '3P%', 'FG%'])"
   ]
  },
  {
   "cell_type": "markdown",
   "metadata": {},
   "source": [
    "# Data Analysis & Results (WIP)"
   ]
  },
  {
   "cell_type": "markdown",
   "metadata": {},
   "source": [
    "Include cells that describe the steps in your data analysis."
   ]
  },
  {
   "cell_type": "code",
   "execution_count": null,
   "metadata": {},
   "outputs": [],
   "source": [
    "## YOUR CODE HERE\n",
    "## FEEL FREE TO ADD MULTIPLE CELLS PER SECTION"
   ]
  },
  {
   "cell_type": "markdown",
   "metadata": {},
   "source": [
    "# Ethics & Privacy (WIP)"
   ]
  },
  {
   "cell_type": "markdown",
   "metadata": {},
   "source": [
    "All the datasets we are using in our models contain information on individual basketball players in the NBA. This information is derived from either the NBA itself (stats.nba.com), or Kaggle who pulled their data from basketball-reference.com which received its data from contributions from private contributers such as the respected database journalist Sean Lahman.\n",
    "\n",
    "While all the data collected follows the rules and regulations the NBA holds for the privacy of its players, recently\n",
    "there has been growing privacy concerns as the technology used to track players off the court has improved. One of the largest concerns of Players Unions are the blood tests some NBA teams are using to track performace of its players. While player data points and assists per game are resonable to keep track of, when it comes to the bodily functions of individuals on and off the court the boundaries of privacy become much more mudled. For our project we made sure to only utilize data points derived from on court performance as to maintain the privacy of the players. The only exception to this of course is height.\n",
    "\n",
    "When trying to compare player performance and the unchangable attributes of players' bodies there are some obvious ethical issues that may arise. For instance, if we found that the shorter a point guard was the worse their performance, these findings could lead to discrimination against players of smaller stature. This \n"
   ]
  },
  {
   "cell_type": "markdown",
   "metadata": {},
   "source": [
    "# Conclusion & Discussion (WIP)"
   ]
  },
  {
   "cell_type": "markdown",
   "metadata": {},
   "source": [
    " *Fill in your discussion information here*"
   ]
  },
  {
   "cell_type": "markdown",
   "metadata": {},
   "source": [
    "# Team Contributions"
   ]
  },
  {
   "cell_type": "markdown",
   "metadata": {},
   "source": [
    "Throughout the whole project our team contributed a fairly even amount of work. Everyone had their own ideas when we were initially brainstorming our topic but eventually decided to focus on basketball and came up with our hypothesis as a collective. After we got our feedback, Chris then edited it to make it more specific, adding finer details to our project's idea and revising both our hypothesis and background information clearing up any confusion about our idea. Kevin also provided the descriptions for all datasets used as well as added more information to the background and prior work section.\n",
    "        \n",
    "\n",
    "We all helped find appropriate datasets for the project, these included both the defensive stats which Anwar found as well as the season stats and player stats that Kevin, Chris and Jake found. Jake and Kevin then began to focus on cleaning and merging the datasets. Anwar and Chris then began to find the standard deviation between height and each of our categories(points, assists, defensive rating, 3 point percentage, field goal percentage, and turnovers) for each year, then making graphs for comparing height and each category for each year. Kevin analyzed the data, adding to our conclusion and discussion section with assistance from Anwar, while Jake finished the project by writing the ethics and privacy portion of the project.\n"
   ]
  },
  {
   "cell_type": "code",
   "execution_count": null,
   "metadata": {},
   "outputs": [],
   "source": []
  }
 ],
 "metadata": {
  "kernelspec": {
   "display_name": "Python 3",
   "language": "python",
   "name": "python3"
  },
  "language_info": {
   "codemirror_mode": {
    "name": "ipython",
    "version": 3
   },
   "file_extension": ".py",
   "mimetype": "text/x-python",
   "name": "python",
   "nbconvert_exporter": "python",
   "pygments_lexer": "ipython3",
   "version": "3.6.7"
  }
 },
 "nbformat": 4,
 "nbformat_minor": 2
}

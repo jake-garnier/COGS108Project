{
 "cells": [
  {
   "cell_type": "markdown",
   "metadata": {},
   "source": [
    "# COGS 108 - Final Project "
   ]
  },
  {
   "cell_type": "markdown",
   "metadata": {},
   "source": [
    "## Permissions"
   ]
  },
  {
   "cell_type": "markdown",
   "metadata": {},
   "source": [
    "Place an `X` in the appropriate bracket below to specify if you would like your group's project to be made available to the public. (Note that PIDs will be scraped from the public submission, but student names will be included.)\n",
    "\n",
    "* [ X ] YES - make available\n",
    "* [  ] NO - keep private"
   ]
  },
  {
   "cell_type": "markdown",
   "metadata": {},
   "source": [
    "# Overview"
   ]
  },
  {
   "cell_type": "markdown",
   "metadata": {},
   "source": [
    "- It has been a commonly held stimga that height plays a pivotal role in the world of basketball. This project seeks to ultimately challenge this opinion, finding whether or not there actually exists a correlation between an NBA player's height (specifically point guards) and their success/performance in the league. Utilizing common statistics that usually predict a player's success in a game such as points per game, assists, turnovers, defensive rating, etc. as well as taking into account their height, we can build a more accurate baseline of success among these players. By analyzing these datasets this project will provide a more statsitcal and defintive answer in determining correlation between height in point guards and their performance in the NBA."
   ]
  },
  {
   "cell_type": "markdown",
   "metadata": {},
   "source": [
    "# Names\n",
    "\n",
    "- Kevin Ing\n",
    "- Chris Molina\n",
    "- Anwar Hsu\n",
    "- Jake Garnier"
   ]
  },
  {
   "cell_type": "markdown",
   "metadata": {},
   "source": [
    "# Group Members IDs\n",
    "\n",
    "- A15395306\n",
    "- A15429191\n",
    "- A15443752\n",
    "- A15578823"
   ]
  },
  {
   "cell_type": "markdown",
   "metadata": {},
   "source": [
    "# Research Question"
   ]
  },
  {
   "cell_type": "markdown",
   "metadata": {},
   "source": [
    "- What is the correlation between height and a point guard's success/performance in the NBA?"
   ]
  },
  {
   "cell_type": "markdown",
   "metadata": {},
   "source": [
    "## Background and Prior Work (NEEDS IMPROVEMENT)"
   ]
  },
  {
   "cell_type": "markdown",
   "metadata": {},
   "source": [
    "- We chose to do research on this project to contest the common stigma that height plays a pivotal role in basketball players. In the modern age of the NBA we are seeing more and more players use different unique skill sets that utilize other parts of their game rather than height. The major factor in allowing these smaller players to ultimately perform better than their taller counterparts revolves around the game's more fast paced playstyle and play around the 3 pointer. With the court more spaced out, point guards are given more freedom on offense, players like Stephen Curry and Damian Lillard have taken advantage of the new era style of play and have put up incredible statistics throughout the recent seasons. \n",
    "\n",
    "\n",
    " - The average height for a point guard over the 2012-2017 seaons have hovered around 6'2\n",
    " - From the 2012-2017 seasons 3 MVP awards were given to point guards (Stephen Curry) (Russell Westbrook)\n",
    " - Historically big men (player who played the \"power forward\" to \"center\" positions who were on average around 6'11 won the MVP award more prior to 2000. \n",
    "\n",
    "References (include links):\n",
    "- 1) https://saltcityhoops.com/how-much-has-height-of-point-guards-mattered-historically/\n",
    "\n",
    "    This article provides data to players prior to 2013 where the game was played much differently than it is now, where height isn't factored to be as important then it used to be.\n",
    "\n",
    "\n",
    "\n",
    "- 2) https://bleacherreport.com/articles/937064-building-the-perfect-nba-point-guard#slide9\n",
    "\n",
    "     We based our criteria for performance and success based off of some of the points highlighted in this article, more specifically we chose the main three attributes; points, assists, shooting percentage, and points allowed (defense).  "
   ]
  },
  {
   "cell_type": "markdown",
   "metadata": {},
   "source": [
    "# Hypothesis (NEEDS IMPROVEMENT)\n"
   ]
  },
  {
   "cell_type": "markdown",
   "metadata": {},
   "source": [
    "- We believe that height holds a dominating factor in terms of how successful a point guard will be in the NBA, the taller the player the better he will perform for his respective team and therfore the more succesful the team will be.\n",
    "\n"
   ]
  },
  {
   "cell_type": "markdown",
   "metadata": {},
   "source": [
    "# Dataset(s)"
   ]
  },
  {
   "cell_type": "markdown",
   "metadata": {},
   "source": [
    "# Setup"
   ]
  },
  {
   "cell_type": "code",
   "execution_count": 3,
   "metadata": {},
   "outputs": [],
   "source": [
    "## YOUR CODE HERE"
   ]
  },
  {
   "cell_type": "markdown",
   "metadata": {},
   "source": [
    "- Dataset Name: player_data.csv\n",
    "- Link to the dataset: https://www.kaggle.com/drgilermo/nba-players-stats#player_data.csv\n",
    "- Number of observations: 4551\n",
    "    - This dataset includes player statistics that range from the 1950 season all the way to the 2018 season. This dataset consists of each player's name, year played, college, position, height, and weight. The main statistics that we plan on using from this dataset include player position and height, which will we then narrow down to only point guards from the 2012-2017 season. We will merge this data set with the season stats and defensive stats data sets since they lack statistics regarding player height. \n",
    "\n",
    "\n",
    "- Dataset Name: season_stats.csv\n",
    "- Link to the dataset: https://www.kaggle.com/drgilermo/nba-players-stats#Seasons_Stats.csv\n",
    "- Number of observations: 3921\n",
    "    - This dataset includes player game stats from 1950-2018 holding 53 columns of stats such as points, assists, rebounds, steals etc. The main statistics we will be utilizing in this dataset will points, assists, turnovers, steals, 3pt %, field goal %. We will also only be analyzing players from a 5 year span from the 2012-2017 seasons. This dataset will be merged with the player_data.csv file to include height and player position which will we use to sort out point guards.\n",
    "   \n",
    "   \n",
    "- Dataset Name: season_2012_2013.csv - season_2017_2018.csv\n",
    "- Link to the dataset: https://stats.nba.com/players/advanced/\n",
    "- Number of observations: 300\n",
    "    - We used a third party application called DataMiner to extract stats from the NBA official advanced stats website since there was a lack of defensive rating stats online. These collection of datasets each consist of the player's name, the team they play for, and their defensive rating, the dataset already consists of players in the NBA that are point guards and also hold a starting position on the roster. We combine this dataset with the ones above to merge the defensive rating stat alongside the other stats as well as the height of each respective player. This will also narrow the list of point guards down to only starting point guards.  "
   ]
  },
  {
   "cell_type": "markdown",
   "metadata": {},
   "source": [
    "# Data Cleaning"
   ]
  },
  {
   "cell_type": "markdown",
   "metadata": {},
   "source": [
    "Describe your data cleaning steps here."
   ]
  },
  {
   "cell_type": "code",
   "execution_count": 1,
   "metadata": {},
   "outputs": [],
   "source": [
    "## YOUR CODE HERE\n",
    "## FEEL FREE TO ADD MULTIPLE CELLS PER SECTION"
   ]
  },
  {
   "cell_type": "markdown",
   "metadata": {},
   "source": [
    "# Data Analysis & Results"
   ]
  },
  {
   "cell_type": "markdown",
   "metadata": {},
   "source": [
    "Include cells that describe the steps in your data analysis."
   ]
  },
  {
   "cell_type": "code",
   "execution_count": 5,
   "metadata": {},
   "outputs": [],
   "source": [
    "## YOUR CODE HERE\n",
    "## FEEL FREE TO ADD MULTIPLE CELLS PER SECTION"
   ]
  },
  {
   "cell_type": "markdown",
   "metadata": {},
   "source": [
    "# Ethics & Privacy"
   ]
  },
  {
   "cell_type": "markdown",
   "metadata": {},
   "source": [
    "*Fill in your ethics & privacy discussion here*"
   ]
  },
  {
   "cell_type": "markdown",
   "metadata": {},
   "source": [
    "# Conclusion & Discussion"
   ]
  },
  {
   "cell_type": "markdown",
   "metadata": {},
   "source": [
    "*Fill in your discussion information here*"
   ]
  },
  {
   "cell_type": "markdown",
   "metadata": {},
   "source": [
    "# Team Contributions"
   ]
  },
  {
   "cell_type": "markdown",
   "metadata": {},
   "source": [
    "*Specify who in your group worked on which parts of the project.*"
   ]
  }
 ],
 "metadata": {
  "kernelspec": {
   "display_name": "Python 3",
   "language": "python",
   "name": "python3"
  },
  "language_info": {
   "codemirror_mode": {
    "name": "ipython",
    "version": 3
   },
   "file_extension": ".py",
   "mimetype": "text/x-python",
   "name": "python",
   "nbconvert_exporter": "python",
   "pygments_lexer": "ipython3",
   "version": "3.6.7"
  }
 },
 "nbformat": 4,
 "nbformat_minor": 2
}

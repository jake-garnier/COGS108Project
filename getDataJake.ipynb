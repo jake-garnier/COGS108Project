{
 "cells": [
  {
   "cell_type": "code",
   "execution_count": 15,
   "metadata": {},
   "outputs": [],
   "source": [
    "import pandas as pd\n",
    "import numpy as np\n",
    "\n",
    "df_offensive = pd.read_csv(\"Seasons_Stats.csv\")\n",
    "df_heights = pd.read_csv(\"player_data.csv\")\n",
    "df_2012 = pd.read_csv(\"2011.csv\")\n",
    "df_2013 = pd.read_csv(\"2012.csv\")\n",
    "df_2014 = pd.read_csv(\"2013.csv\")\n",
    "df_2015 = pd.read_csv(\"2014.csv\")\n",
    "df_2016 = pd.read_csv(\"2015.csv\")\n",
    "df_2017 = pd.read_csv(\"2016.csv\")\n",
    "\n",
    "df_heights = df_heights[['name', 'height']]\n",
    "df_offensive = df_offensive[['Year', 'Player', 'PTS', 'TOV', 'AST', '3P%', 'FG%', 'G']]\n",
    "df_total = df_heights.merge(df_offensive, how='left', left_on='name', right_on='Player')\n",
    "\n",
    "df_2012['year'] = 2012.0\n",
    "df_2013['year'] = 2013.0\n",
    "df_2014['year'] = 2014.0\n",
    "df_2015['year'] = 2015.0\n",
    "df_2016['year'] = 2016.0\n",
    "df_2017['year'] = 2017.0\n",
    "\n",
    "df_total_year = pd.concat([df_2012, df_2013, df_2014, df_2015, df_2016, df_2017])\n",
    "df_total = df_total_year.merge(df_total, how='inner', left_on=['player', 'year'], right_on=['name', 'Year'])\n",
    "df_total['PTSPG'] = df_total['PTS'] / df_total['G']\n",
    "df_total['TOVPG'] = df_total['TOV'] / df_total['G']\n",
    "df_total['ASTPG'] = df_total['AST'] / df_total['G']\n",
    "df_total = df_total[['player', 'year', 'height', 'defense rating', 'PTSPG', 'TOVPG', 'ASTPG', '3P%', 'FG%']]\n",
    "\n",
    "def height_fix(height) :\n",
    "    height_split = height.split('-')\n",
    "    total = (int(height_split[0]) * 12) + int(height_split[1])\n",
    "    return total\n",
    "\n",
    "df_total['height'] = df_total['height'].apply(height_fix)\n",
    "\n",
    "def mean_calc(year, df) :\n",
    "    mean_array = []\n",
    "    for height in range(60, 100) :\n",
    "        df_curr = df.loc[(df['year'] == year) & (df['height'] == height)]\n",
    "        if df_curr.empty :\n",
    "            continue\n",
    "        mean = df_curr.mean()\n",
    "        mean_array.append([height, mean['defense rating'], mean['PTSPG'], mean['TOVPG'], mean['ASTPG'], mean['3P%'], mean['FG%']])\n",
    "    return mean_array\n",
    "        \n",
    "df_2012_mean = pd.DataFrame(data=mean_calc(2012.0, df_total), columns=['height', 'defense rating', 'PTSPG', 'TOVPG', 'ASTPG', '3P%', 'FG%'])\n",
    "df_2013_mean = pd.DataFrame(data=mean_calc(2013.0, df_total), columns=['height', 'defense rating', 'PTSPG', 'TOVPG', 'ASTPG', '3P%', 'FG%'])\n",
    "df_2014_mean = pd.DataFrame(data=mean_calc(2014.0, df_total), columns=['height', 'defense rating', 'PTSPG', 'TOVPG', 'ASTPG', '3P%', 'FG%'])\n",
    "df_2015_mean = pd.DataFrame(data=mean_calc(2015.0, df_total), columns=['height', 'defense rating', 'PTSPG', 'TOVPG', 'ASTPG', '3P%', 'FG%'])\n",
    "df_2016_mean = pd.DataFrame(data=mean_calc(2016.0, df_total), columns=['height', 'defense rating', 'PTSPG', 'TOVPG', 'ASTPG', '3P%', 'FG%'])\n",
    "df_2017_mean = pd.DataFrame(data=mean_calc(2017.0, df_total), columns=['height', 'defense rating', 'PTSPG', 'TOVPG', 'ASTPG', '3P%', 'FG%'])"
   ]
  },
  {
   "cell_type": "code",
   "execution_count": null,
   "metadata": {},
   "outputs": [],
   "source": []
  }
 ],
 "metadata": {
  "kernelspec": {
   "display_name": "Python 3",
   "language": "python",
   "name": "python3"
  },
  "language_info": {
   "codemirror_mode": {
    "name": "ipython",
    "version": 3
   },
   "file_extension": ".py",
   "mimetype": "text/x-python",
   "name": "python",
   "nbconvert_exporter": "python",
   "pygments_lexer": "ipython3",
   "version": "3.6.7"
  }
 },
 "nbformat": 4,
 "nbformat_minor": 2
}

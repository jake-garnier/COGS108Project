{
 "cells": [
  {
   "cell_type": "markdown",
   "metadata": {},
   "source": [
    "# COGS 108 Final Project Check-In"
   ]
  },
  {
   "cell_type": "markdown",
   "metadata": {},
   "source": [
    "# Names\n",
    "\n",
    "- Kevin Ing\n",
    "- Anwar Hsu\n",
    "- Chris Molina\n",
    "- Jake Garnier"
   ]
  },
  {
   "cell_type": "markdown",
   "metadata": {},
   "source": [
    "# Group Members IDs\n",
    "\n",
    "- A15395306\n",
    "- A15443752\n",
    "- A15429191\n",
    "- A15578823"
   ]
  },
  {
   "cell_type": "markdown",
   "metadata": {},
   "source": [
    "# Accomplishments"
   ]
  },
  {
   "cell_type": "markdown",
   "metadata": {},
   "source": [
    "- We collected all of the data we needed for our NBA point guards from the 2012-2017 NBA seasons. The majority of our data came from Kaggle, where we collected stats for points, assists, turnovers, FG percentage, 3PT percentage, and defensive stats.\n",
    "\n",
    "- We cleaned our data tables, merging neccessary statistics onto one table with all of our players."
   ]
  },
  {
   "cell_type": "markdown",
   "metadata": {},
   "source": [
    "# Going Well"
   ]
  },
  {
   "cell_type": "markdown",
   "metadata": {},
   "source": [
    "- We have been able to find majority of our data we've needed quite easily from Kaggle, and organizing our data into a singular data frame has gone smoothly."
   ]
  },
  {
   "cell_type": "markdown",
   "metadata": {},
   "source": [
    "# Struggles"
   ]
  },
  {
   "cell_type": "markdown",
   "metadata": {},
   "source": [
    "- The one struggle we encountered was finding defensive ratings for our players as most websites we checked failed to record this particular statistic. We had to convert these stats from the ESPN website to a CSV file which we then had to merge with the existing dataframe with all of our other data."
   ]
  },
  {
   "cell_type": "markdown",
   "metadata": {},
   "source": [
    "# Plan Forward"
   ]
  },
  {
   "cell_type": "markdown",
   "metadata": {},
   "source": [
    "- We plan on taking the data we have collected which contains many starting point guard's offensive and defensive stats and we will use possibly linear regression models to calculate if there is a correlation between the height of the pointguard and their offensive and defensive success."
   ]
  },
  {
   "cell_type": "code",
   "execution_count": null,
   "metadata": {},
   "outputs": [],
   "source": []
  }
 ],
 "metadata": {
  "kernelspec": {
   "display_name": "Python 3",
   "language": "python",
   "name": "python3"
  },
  "language_info": {
   "codemirror_mode": {
    "name": "ipython",
    "version": 3
   },
   "file_extension": ".py",
   "mimetype": "text/x-python",
   "name": "python",
   "nbconvert_exporter": "python",
   "pygments_lexer": "ipython3",
   "version": "3.6.7"
  }
 },
 "nbformat": 4,
 "nbformat_minor": 2
}
